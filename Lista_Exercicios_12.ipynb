{
  "cells": [
    {
      "cell_type": "markdown",
      "metadata": {
        "id": "view-in-github",
        "colab_type": "text"
      },
      "source": [
        "<a href=\"https://colab.research.google.com/github/giovannacscavalcante/Python/blob/main/Lista_Exercicios_12.ipynb\" target=\"_parent\"><img src=\"https://colab.research.google.com/assets/colab-badge.svg\" alt=\"Open In Colab\"/></a>"
      ]
    },
    {
      "cell_type": "code",
      "execution_count": null,
      "id": "5c9783f1",
      "metadata": {
        "id": "5c9783f1",
        "outputId": "2e740e3e-e76b-418d-e23b-b79cf646ab59"
      },
      "outputs": [
        {
          "name": "stdout",
          "output_type": "stream",
          "text": [
            "Digite um número: 8\n",
            "Digite um número: 3\n",
            "Digite um número: 4\n",
            "Digite um número: 5\n",
            "Digite um número: 6\n",
            "O maior numero é 8\n"
          ]
        }
      ],
      "source": [
        "#Faça um programa que leia 5 números e informe o maior número. Usando While\n",
        "numeros = []\n",
        "for num in range(1, 6):\n",
        "    numeros.append(int(input(\"Digite um número: \")))\n",
        "\n",
        "maiorNumero = numeros[0]\n",
        "\n",
        "cont = 1\n",
        "while cont < len(numeros):\n",
        "    if numeros[cont] > maiorNumero:\n",
        "        maiorNumero = numeros[cont]\n",
        "    cont = cont + 1\n",
        "        \n",
        "print (\"O maior numero é \" + str (maiorNumero))"
      ]
    },
    {
      "cell_type": "code",
      "execution_count": null,
      "id": "db9fa65b",
      "metadata": {
        "id": "db9fa65b"
      },
      "outputs": [],
      "source": [
        ""
      ]
    }
  ],
  "metadata": {
    "kernelspec": {
      "display_name": "Python 3 (ipykernel)",
      "language": "python",
      "name": "python3"
    },
    "language_info": {
      "codemirror_mode": {
        "name": "ipython",
        "version": 3
      },
      "file_extension": ".py",
      "mimetype": "text/x-python",
      "name": "python",
      "nbconvert_exporter": "python",
      "pygments_lexer": "ipython3",
      "version": "3.9.7"
    },
    "colab": {
      "name": "Lista Exercicios - 12.ipynb",
      "provenance": [],
      "include_colab_link": true
    }
  },
  "nbformat": 4,
  "nbformat_minor": 5
}