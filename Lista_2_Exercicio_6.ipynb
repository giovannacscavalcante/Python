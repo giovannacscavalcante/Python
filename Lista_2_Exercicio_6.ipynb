{
  "nbformat": 4,
  "nbformat_minor": 0,
  "metadata": {
    "colab": {
      "name": "Lista 2 - Exercicio 6",
      "provenance": [],
      "authorship_tag": "ABX9TyMlkNeD/pS7We+IIKM9myIS",
      "include_colab_link": true
    },
    "kernelspec": {
      "name": "python3",
      "display_name": "Python 3"
    },
    "language_info": {
      "name": "python"
    }
  },
  "cells": [
    {
      "cell_type": "markdown",
      "metadata": {
        "id": "view-in-github",
        "colab_type": "text"
      },
      "source": [
        "<a href=\"https://colab.research.google.com/github/giovannacscavalcante/Python/blob/main/Lista_2_Exercicio_6.ipynb\" target=\"_parent\"><img src=\"https://colab.research.google.com/assets/colab-badge.svg\" alt=\"Open In Colab\"/></a>"
      ]
    },
    {
      "cell_type": "code",
      "execution_count": 1,
      "metadata": {
        "colab": {
          "base_uri": "https://localhost:8080/"
        },
        "id": "ScAjn-oo7SEC",
        "outputId": "0bea3759-562f-4b27-d2b0-a7d552fa9a1a"
      },
      "outputs": [
        {
          "output_type": "stream",
          "name": "stdout",
          "text": [
            "digite um nome:gABRIEL\n",
            "digite uma idade: 25\n",
            "digite um telefone: 94932942\n",
            "deseja add outro nome? (s/n)N\n",
            "{'gABRIEL': ['gABRIEL', '25', '94932942']}\n"
          ]
        }
      ],
      "source": [
        "#Crie um dicionário que é uma agenda e coloque nele os seguintes dados:\n",
        "#chave (cpf), nome, idade, telefone. E em seguida mostre:\n",
        "#a) Suas Chaves\n",
        "#b) Seus Elementos\n",
        "\n",
        "\n",
        "dados={}\n",
        "s_ou_n='s'\n",
        "while s_ou_n=='s':\n",
        "    nome= input('Digite um nome:')\n",
        "    idade= input('Digite uma idade: ')\n",
        "    telefone= input('Digite um telefone: ')\n",
        "    dados[nome]=[nome,idade,telefone]\n",
        "    s_ou_n= input('Deseja adicionar outro nome? (s/n)')\n",
        "print(dados)"
      ]
    }
  ]
}