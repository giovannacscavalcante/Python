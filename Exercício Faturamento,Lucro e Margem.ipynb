{
 "cells": [
  {
   "cell_type": "code",
   "execution_count": 6,
   "id": "1c59f8a9",
   "metadata": {},
   "outputs": [
    {
     "ename": "NameError",
     "evalue": "name 'qtd_vendas_coca' is not defined",
     "output_type": "error",
     "traceback": [
      "\u001b[1;31m---------------------------------------------------------------------------\u001b[0m",
      "\u001b[1;31mNameError\u001b[0m                                 Traceback (most recent call last)",
      "\u001b[1;32mC:\\Users\\ALUNO0~1.IBC\\AppData\\Local\\Temp/ipykernel_13392/2406021658.py\u001b[0m in \u001b[0;36m<module>\u001b[1;34m\u001b[0m\n\u001b[0;32m      4\u001b[0m \u001b[0mpreco_pepsi\u001b[0m \u001b[1;33m=\u001b[0m \u001b[1;36m1.50\u001b[0m\u001b[1;33m\u001b[0m\u001b[1;33m\u001b[0m\u001b[0m\n\u001b[0;32m      5\u001b[0m \u001b[0mcusto_loja\u001b[0m \u001b[1;33m=\u001b[0m \u001b[1;36m2500\u001b[0m\u001b[1;33m\u001b[0m\u001b[1;33m\u001b[0m\u001b[0m\n\u001b[1;32m----> 6\u001b[1;33m \u001b[0mfaturcoca\u001b[0m \u001b[1;33m=\u001b[0m \u001b[1;33m(\u001b[0m\u001b[0mqtd_vendas_coca\u001b[0m \u001b[1;33m*\u001b[0m \u001b[0mpreco_coca\u001b[0m\u001b[1;33m)\u001b[0m\u001b[1;33m\u001b[0m\u001b[1;33m\u001b[0m\u001b[0m\n\u001b[0m\u001b[0;32m      7\u001b[0m \u001b[0mfaturpepsi\u001b[0m \u001b[1;33m=\u001b[0m \u001b[1;33m(\u001b[0m\u001b[0mqtd_vendas_pepsi\u001b[0m \u001b[1;33m*\u001b[0m \u001b[0mpreco_pepsi\u001b[0m\u001b[1;33m)\u001b[0m\u001b[1;33m\u001b[0m\u001b[1;33m\u001b[0m\u001b[0m\n\u001b[0;32m      8\u001b[0m \u001b[0mfatur\u001b[0m \u001b[1;33m=\u001b[0m \u001b[0mfaturcoca\u001b[0m \u001b[1;33m+\u001b[0m \u001b[0mfaturpepsi\u001b[0m\u001b[1;33m\u001b[0m\u001b[1;33m\u001b[0m\u001b[0m\n",
      "\u001b[1;31mNameError\u001b[0m: name 'qtd_vendas_coca' is not defined"
     ]
    }
   ],
   "source": [
    "qnt_vendas_coca = 150\n",
    "qnt_vendas_pepsi = 130\n",
    "preco_coca = 1.50\n",
    "preco_pepsi = 1.50\n",
    "custo_loja = 2500\n",
    "faturcoca = (qtd_vendas_coca * preco_coca) \n",
    "faturpepsi = (qtd_vendas_pepsi * preco_pepsi)\n",
    "fatur = faturcoca + faturpepsi\n",
    "lucro = fatur - custo_loja\n",
    "margem = lucro / faturamento\n",
    "print (fatur)\n",
    "print (lucro)\n",
    "print (margem)\n"
   ]
  }
 ],
 "metadata": {
  "kernelspec": {
   "display_name": "Python 3 (ipykernel)",
   "language": "python",
   "name": "python3"
  },
  "language_info": {
   "codemirror_mode": {
    "name": "ipython",
    "version": 3
   },
   "file_extension": ".py",
   "mimetype": "text/x-python",
   "name": "python",
   "nbconvert_exporter": "python",
   "pygments_lexer": "ipython3",
   "version": "3.9.7"
  }
 },
 "nbformat": 4,
 "nbformat_minor": 5
}
