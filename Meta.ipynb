{
 "cells": [
  {
   "cell_type": "code",
   "execution_count": 2,
   "id": "972916e6",
   "metadata": {},
   "outputs": [
    {
     "name": "stdout",
     "output_type": "stream",
     "text": [
      " A meta do mês de abril é: 5000\n",
      "\n",
      "\n",
      "\n",
      "Digite o valor atingido:6000\n",
      "Parabéns, meta atingida!\n"
     ]
    }
   ],
   "source": [
    "##print (\"Meta de vendas do mês de Abril\")\n",
    "meta = 5000\n",
    "print(F' A meta do mês de abril é: {meta:2}\\n')\n",
    "valor_atingido = int(input(\"Digite o valor atingido:\"))\n",
    "if valor_atingido >= meta:\n",
    "    print (\"Parabéns, meta atingida!\")\n",
    "elif valor_atingido < meta:\n",
    "     print (\"Você não atingiu a meta. Se esforce mais\")"
   ]
  },
  {
   "cell_type": "code",
   "execution_count": null,
   "id": "c554c18f",
   "metadata": {},
   "outputs": [],
   "source": []
  }
 ],
 "metadata": {
  "kernelspec": {
   "display_name": "Python 3 (ipykernel)",
   "language": "python",
   "name": "python3"
  },
  "language_info": {
   "codemirror_mode": {
    "name": "ipython",
    "version": 3
   },
   "file_extension": ".py",
   "mimetype": "text/x-python",
   "name": "python",
   "nbconvert_exporter": "python",
   "pygments_lexer": "ipython3",
   "version": "3.9.7"
  }
 },
 "nbformat": 4,
 "nbformat_minor": 5
}
