{
  "cells": [
    {
      "cell_type": "markdown",
      "metadata": {
        "id": "view-in-github",
        "colab_type": "text"
      },
      "source": [
        "<a href=\"https://colab.research.google.com/github/giovannacscavalcante/Python/blob/main/Lista_exercicios_8.ipynb\" target=\"_parent\"><img src=\"https://colab.research.google.com/assets/colab-badge.svg\" alt=\"Open In Colab\"/></a>"
      ]
    },
    {
      "cell_type": "code",
      "execution_count": null,
      "id": "0ef55d1c",
      "metadata": {
        "id": "0ef55d1c",
        "outputId": "a0123348-5686-438f-e711-cce987c595de"
      },
      "outputs": [
        {
          "name": "stdout",
          "output_type": "stream",
          "text": [
            "A soma dos múltiplos é: 20667.\n"
          ]
        }
      ],
      "source": [
        "#Faça um programa que calcule a soma entre todos os números ímpares de 0 até 500. Usando FOR.\n",
        "\n",
        "n = 0  \n",
        "for num in range(1, 501):  \n",
        "    if num % 2 != 0:  \n",
        "        if num % 3 == 0: \n",
        "            n += num  \n",
        "print(\"A soma dos múltiplos é: {}.\".format(n))"
      ]
    },
    {
      "cell_type": "code",
      "execution_count": null,
      "id": "5892b7ad",
      "metadata": {
        "id": "5892b7ad"
      },
      "outputs": [],
      "source": [
        ""
      ]
    },
    {
      "cell_type": "code",
      "execution_count": null,
      "id": "45a48ffd",
      "metadata": {
        "id": "45a48ffd"
      },
      "outputs": [],
      "source": [
        ""
      ]
    }
  ],
  "metadata": {
    "kernelspec": {
      "display_name": "Python 3 (ipykernel)",
      "language": "python",
      "name": "python3"
    },
    "language_info": {
      "codemirror_mode": {
        "name": "ipython",
        "version": 3
      },
      "file_extension": ".py",
      "mimetype": "text/x-python",
      "name": "python",
      "nbconvert_exporter": "python",
      "pygments_lexer": "ipython3",
      "version": "3.9.7"
    },
    "colab": {
      "name": "Lista exercicios - 8.ipynb",
      "provenance": [],
      "include_colab_link": true
    }
  },
  "nbformat": 4,
  "nbformat_minor": 5
}