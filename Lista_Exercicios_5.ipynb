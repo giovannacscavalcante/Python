{
  "cells": [
    {
      "cell_type": "markdown",
      "metadata": {
        "id": "view-in-github",
        "colab_type": "text"
      },
      "source": [
        "<a href=\"https://colab.research.google.com/github/giovannacscavalcante/Python/blob/main/Lista_Exercicios_5.ipynb\" target=\"_parent\"><img src=\"https://colab.research.google.com/assets/colab-badge.svg\" alt=\"Open In Colab\"/></a>"
      ]
    },
    {
      "cell_type": "code",
      "execution_count": null,
      "id": "9f7fb1de",
      "metadata": {
        "id": "9f7fb1de",
        "outputId": "9d573b74-9fac-4c43-8822-7aef9693287d"
      },
      "outputs": [
        {
          "name": "stdout",
          "output_type": "stream",
          "text": [
            "--------HOTEIS CARMINE COMF---------\n",
            "Registro de hóspedes\n",
            "Quarto para quantas pessoas?1\n",
            "Nome(s):Giovanna\n",
            "Cpf: 123798\n",
            "Hóspedes registrados:[['Giovanna', 'cpf:123798']]\n"
          ]
        }
      ],
      "source": [
        "#Altere os exemplos feitos na página 30 da apostila conforme o assunto assimilado de for: \n",
        "#a. Criando um Registro de Hóspedes; \n",
        "#1. Identificar quantas pessoas o hóspede que acabou de chegar vai ter no quarto (perguntando\n",
        "#por meio de input)\n",
        "#2. De acordo com a quantidade de pessoas do hóspede, ele deve fazer um for para perguntar o\n",
        "#cpf e o nome de cada pessoa, a fim de registrá-la no quarto (2 inputs para cada pessoa, 1\n",
        "#para o cpf e outro para o nome)\n",
        "#3. O seu programa então deve gerar uma lista com todas as pessoas que ficarão no quarto em\n",
        "#que cada item dessa lista é o nome da pessoa e o cpf da pessoa, assim:\n",
        "    \n",
        "print(\"--------HOTEIS CARMINE COMF---------\")\n",
        "print(\"Registro de hóspedes\")\n",
        "qtde_pessoas = int(input('Quarto para quantas pessoas?'))\n",
        "quarto = []\n",
        "for i in range(qtde_pessoas):\n",
        "    nome = input('Nome(s):')\n",
        "    cpf = input('Cpf: ')\n",
        "    hospede = [nome, 'cpf:{}'.format(cpf)]\n",
        "    quarto.append(hospede)\n",
        "\n",
        "    print(\"Hóspedes registrados:{}\".format(quarto))\n",
        "    "
      ]
    },
    {
      "cell_type": "code",
      "execution_count": null,
      "id": "ae4723e8",
      "metadata": {
        "id": "ae4723e8",
        "outputId": "b81c0621-8012-4e47-9b5c-d71d1bae1fea"
      },
      "outputs": [
        {
          "name": "stdout",
          "output_type": "stream",
          "text": [
            " João atingiu a meta. Fez 15000 vendas\n",
            " Maria atingiu a meta. Fez 27000 vendas\n",
            " Sofia atingiu a meta. Fez 10300 vendas\n"
          ]
        }
      ],
      "source": [
        "#b. Análise de Vendas; \n",
        "#Temos uma lista com os vendedores e os valores de vendas e queremos identificar (printar)\n",
        "#quais os vendedores que bateram a meta e qual foi o valor que eles venderam.\n",
        "\n",
        "meta = 10000\n",
        "vendas = [\n",
        "['João', 15000],\n",
        "['Maria', 27000],\n",
        "['Marcelo', 9900],\n",
        "['Joana', 3750],\n",
        "['Sofia', 10300],\n",
        "['José', 7870],\n",
        "]\n",
        "\n",
        "for item in vendas:\n",
        "    if item[1] >=meta:\n",
        "            print(\" {} atingiu a meta. Fez {} vendas\".format(item[0],item[1]))"
      ]
    },
    {
      "cell_type": "code",
      "execution_count": null,
      "id": "0174bc4b",
      "metadata": {
        "id": "0174bc4b",
        "outputId": "eb394e62-a535-4ca3-9327-bba72e0dbdb6"
      },
      "outputs": [
        {
          "name": "stdout",
          "output_type": "stream",
          "text": [
            "As vendas de Iphone em 2019 foram de 558147\n",
            "As vendas de Iphone em 2020 foram de 951642\n",
            "O crescimento de vendas de Iphone de 2019 para 2020 foram de 70.5%.\n",
            "\n",
            "As vendas de Tv em 2019 foram de 405252\n",
            "As vendas de Tv em 2020 foram de 787604\n",
            "O crescimento de vendas de Tv de 2019 para 2020 foram de 94.3%.\n",
            "\n",
            "As vendas de Máquina de café em 2019 foram de 718654\n",
            "As vendas de Máquina de café em 2020 foram de 867660\n",
            "O crescimento de vendas de Máquina de café de 2019 para 2020 foram de 20.7%.\n",
            "\n",
            "As vendas de Notebook dell em 2019 foram de 422760\n",
            "As vendas de Notebook dell em 2020 foram de 694913\n",
            "O crescimento de vendas de Notebook dell de 2019 para 2020 foram de 64.4%.\n",
            "\n",
            "As vendas de Notebook hp em 2019 foram de 154753\n",
            "As vendas de Notebook hp em 2020 foram de 539704\n",
            "O crescimento de vendas de Notebook hp de 2019 para 2020 foram de 248.8%.\n",
            "\n",
            "As vendas de Microsoft surface em 2019 foram de 438508\n",
            "As vendas de Microsoft surface em 2020 foram de 667179\n",
            "O crescimento de vendas de Microsoft surface de 2019 para 2020 foram de 52.1%.\n",
            "\n",
            "As vendas de Webcam em 2019 foram de 237467\n",
            "As vendas de Webcam em 2020 foram de 295633\n",
            "O crescimento de vendas de Webcam de 2019 para 2020 foram de 24.5%.\n",
            "\n",
            "As vendas de Caixa de som em 2019 foram de 489705\n",
            "As vendas de Caixa de som em 2020 foram de 725316\n",
            "O crescimento de vendas de Caixa de som de 2019 para 2020 foram de 48.1%.\n",
            "\n",
            "As vendas de Microfone em 2019 foram de 328311\n",
            "As vendas de Microfone em 2020 foram de 644622\n",
            "O crescimento de vendas de Microfone de 2019 para 2020 foram de 96.3%.\n",
            "\n",
            "As vendas de Câmera canon em 2019 foram de 591120\n",
            "As vendas de Câmera canon em 2020 foram de 994303\n",
            "O crescimento de vendas de Câmera canon de 2019 para 2020 foram de 68.2%.\n",
            "\n"
          ]
        }
      ],
      "source": [
        "#c. Comparação com Ano Anterior. \n",
        "vendas_produtos = [('Iphone', 558147, 951642), ('Galaxy', 712350, 244295), ('Ipad', 573823, 26964), ('Tv', 405252, 787604), ('Máquina de café', 718654, 867660), ('Kindle', 531580, 78830), ('Geladeira', 973139, 710331), ('Adega', 892292, 646016), ('Notebook dell', 422760, 694913), ('Notebook hp', 154753, 539704), ('Notebook asus', 887061, 324831), ('Microsoft surface', 438508, 667179), ('Webcam', 237467, 295633), ('Caixa de som', 489705, 725316), ('Microfone', 328311, 644622), ('Câmera canon', 591120, 994303)]\n",
        "\n",
        "#seu código aqui\n",
        "\n",
        "for produto, vendas2019, vendas2020 in vendas_produtos:\n",
        "    if vendas2020 > vendas2019:\n",
        "        crescimento = vendas2020/vendas2019 - 1\n",
        "        print(\"As vendas de {} em 2019 foram de {}\".format(produto,vendas2019)) \n",
        "        print(\"As vendas de {} em 2020 foram de {}\".format(produto,vendas2020)) \n",
        "        print(\"O crescimento de vendas de {} de 2019 para 2020 foram de {:.1%}.\".format(produto,crescimento))\n",
        "        print(\"\")"
      ]
    },
    {
      "cell_type": "code",
      "execution_count": null,
      "id": "ffeb904e",
      "metadata": {
        "id": "ffeb904e"
      },
      "outputs": [],
      "source": [
        ""
      ]
    }
  ],
  "metadata": {
    "kernelspec": {
      "display_name": "Python 3 (ipykernel)",
      "language": "python",
      "name": "python3"
    },
    "language_info": {
      "codemirror_mode": {
        "name": "ipython",
        "version": 3
      },
      "file_extension": ".py",
      "mimetype": "text/x-python",
      "name": "python",
      "nbconvert_exporter": "python",
      "pygments_lexer": "ipython3",
      "version": "3.9.7"
    },
    "colab": {
      "name": "Lista Exercicios - 5.ipynb",
      "provenance": [],
      "include_colab_link": true
    }
  },
  "nbformat": 4,
  "nbformat_minor": 5
}