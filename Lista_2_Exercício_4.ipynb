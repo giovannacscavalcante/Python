{
  "nbformat": 4,
  "nbformat_minor": 0,
  "metadata": {
    "colab": {
      "name": "Lista 2 - Exercício 4",
      "provenance": [],
      "authorship_tag": "ABX9TyOEY5mS0+IeGCKBO5iCrn0s",
      "include_colab_link": true
    },
    "kernelspec": {
      "name": "python3",
      "display_name": "Python 3"
    },
    "language_info": {
      "name": "python"
    }
  },
  "cells": [
    {
      "cell_type": "markdown",
      "metadata": {
        "id": "view-in-github",
        "colab_type": "text"
      },
      "source": [
        "<a href=\"https://colab.research.google.com/github/giovannacscavalcante/Python/blob/main/Lista_2_Exerc%C3%ADcio_4.ipynb\" target=\"_parent\"><img src=\"https://colab.research.google.com/assets/colab-badge.svg\" alt=\"Open In Colab\"/></a>"
      ]
    },
    {
      "cell_type": "code",
      "execution_count": 1,
      "metadata": {
        "colab": {
          "base_uri": "https://localhost:8080/"
        },
        "id": "JANuGgTi5DRV",
        "outputId": "93ca685e-a0cf-48ca-cd50-3d2204066602"
      },
      "outputs": [
        {
          "output_type": "stream",
          "name": "stdout",
          "text": [
            "Digite a temperatura do mês de Janeiro: 30\n",
            "Digite a temperatura do mês de Fevereiro: 23\n",
            "Digite a temperatura do mês de Março: 25\n",
            "Digite a temperatura do mês de Abril: 56\n",
            "Digite a temperatura do mês de Maio: 76\n",
            "Digite a temperatura do mês de Junho: 34\n",
            "Digite a temperatura do mês de Julho: 54\n",
            "Digite a temperatura do mês de Agosto: 34\n",
            "Digite a temperatura do mês de Setembro: 23\n",
            "Digite a temperatura do mês de Outubro: 1\n",
            "Digite a temperatura do mês de Novembro: 2\n",
            "Digite a temperatura do mês de Dezembro: 0\n",
            "1 - Janeiro\n",
            "4 - Abril\n",
            "5 - Maio\n",
            "6 - Junho\n",
            "7 - Julho\n",
            "8 - Agosto\n"
          ]
        }
      ],
      "source": [
        "#Faça um programa que receba a temperatura média de cada mês do ano\n",
        "#e armazene-as em uma lista. Após isto, calcule a média anual das\n",
        "#temperaturas e mostre todas as temperaturas acima da média anual, e\n",
        "#em que mês elas ocorreram (mostrar o mês por extenso: 1 – Janeiro, 2 –\n",
        "#Fevereiro, . . . ).\n",
        "\n",
        "meses = [\"Janeiro\", \"Fevereiro\", \"Março\", \"Abril\", \"Maio\", \"Junho\", \"Julho\", \"Agosto\", \"Setembro\", \"Outubro\", \"Novembro\", \"Dezembro\"]\n",
        "temperatura = []\n",
        "\n",
        "for m in range(0, len(meses)):\n",
        "    temperatura.append(float(input(\"Digite a temperatura do mês de \" + meses[m] + \": \")))\n",
        "\n",
        "mediaAnual = sum(temperatura)/len(temperatura)\n",
        "\n",
        "for m in range(0, len(temperatura)):\n",
        "    if temperatura[m] > mediaAnual:\n",
        "        print (str(m+1) + \" - \" + meses[m])"
      ]
    }
  ]
}