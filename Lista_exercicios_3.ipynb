{
  "cells": [
    {
      "cell_type": "markdown",
      "metadata": {
        "id": "view-in-github",
        "colab_type": "text"
      },
      "source": [
        "<a href=\"https://colab.research.google.com/github/giovannacscavalcante/Python/blob/main/Lista_exercicios_3.ipynb\" target=\"_parent\"><img src=\"https://colab.research.google.com/assets/colab-badge.svg\" alt=\"Open In Colab\"/></a>"
      ]
    },
    {
      "cell_type": "code",
      "execution_count": null,
      "id": "9976386f",
      "metadata": {
        "id": "9976386f"
      },
      "outputs": [],
      "source": [
        "# Crie um sistema de vendas. Nosso programa deve registrar os produtos e as quantidades (2 inputs) e adicionar em uma lista. \n",
        "#O programa deve continuar rodando até o input ser vazio, ou seja, o usuário apertar  enter sem digitar nenhum produto ou \n",
        "#quantidade. Ao final do programa, ele deve printar todos os produtos e quantidades vendidas. \n",
        "\n",
        "while True:\n",
        "    produto=input(\"Insira o produto.Para cancelar o registro de novos produtos aperte Enter 2 vezes:\")   \n",
        "    if not produto:\n",
        "        break\n",
        "    quantidade=int(input(\"Insira a quantidade do produto.Para cancelar o registro de novos produtos aperte Enter 2 vezes:\"))\n",
        "    vendas.append([produto,quantidade])\n",
        "    \n",
        "print(vendas)"
      ]
    },
    {
      "cell_type": "code",
      "execution_count": null,
      "id": "65891b41",
      "metadata": {
        "id": "65891b41"
      },
      "outputs": [],
      "source": [
        ""
      ]
    }
  ],
  "metadata": {
    "kernelspec": {
      "display_name": "Python 3 (ipykernel)",
      "language": "python",
      "name": "python3"
    },
    "language_info": {
      "codemirror_mode": {
        "name": "ipython",
        "version": 3
      },
      "file_extension": ".py",
      "mimetype": "text/x-python",
      "name": "python",
      "nbconvert_exporter": "python",
      "pygments_lexer": "ipython3",
      "version": "3.9.7"
    },
    "colab": {
      "name": "Lista exercicios - 3.ipynb",
      "provenance": [],
      "include_colab_link": true
    }
  },
  "nbformat": 4,
  "nbformat_minor": 5
}