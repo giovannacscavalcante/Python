{
  "nbformat": 4,
  "nbformat_minor": 0,
  "metadata": {
    "colab": {
      "name": "Lista Exercicios - 13",
      "provenance": [],
      "authorship_tag": "ABX9TyNM4Xy4QpzF3J20mRpPWwh+",
      "include_colab_link": true
    },
    "kernelspec": {
      "name": "python3",
      "display_name": "Python 3"
    },
    "language_info": {
      "name": "python"
    }
  },
  "cells": [
    {
      "cell_type": "markdown",
      "metadata": {
        "id": "view-in-github",
        "colab_type": "text"
      },
      "source": [
        "<a href=\"https://colab.research.google.com/github/giovannacscavalcante/Python/blob/main/Lista_Exercicios_13.ipynb\" target=\"_parent\"><img src=\"https://colab.research.google.com/assets/colab-badge.svg\" alt=\"Open In Colab\"/></a>"
      ]
    },
    {
      "cell_type": "code",
      "execution_count": 4,
      "metadata": {
        "colab": {
          "base_uri": "https://localhost:8080/"
        },
        "id": "PcvKVsgjfaEa",
        "outputId": "ef892bf2-8301-44af-8d1e-ea2278650ca4"
      },
      "outputs": [
        {
          "output_type": "stream",
          "name": "stdout",
          "text": [
            "Escreva um número:7\n",
            "7 é um número primo\n"
          ]
        }
      ],
      "source": [
        "num=int(input(\"Escreva um número:\"))\n",
        " \n",
        "if num > 1:\n",
        " \n",
        "    \n",
        "    for i in range(2, num):\n",
        " \n",
        "      \n",
        "        if (num % i) == 0:\n",
        "            print(num, \"é um número primo\")\n",
        "            break\n",
        "    else:\n",
        "        print(num, \"é um número primo\")\n",
        " \n",
        "else:\n",
        "    print(num, \" não é um número primo\")"
      ]
    }
  ]
}