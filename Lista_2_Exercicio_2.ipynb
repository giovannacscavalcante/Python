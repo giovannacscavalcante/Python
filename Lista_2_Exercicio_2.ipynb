{
  "nbformat": 4,
  "nbformat_minor": 0,
  "metadata": {
    "colab": {
      "name": "Lista 2 - Exercicio 2",
      "provenance": [],
      "authorship_tag": "ABX9TyNFsjLHqsEmrR+62F3CPEZL",
      "include_colab_link": true
    },
    "kernelspec": {
      "name": "python3",
      "display_name": "Python 3"
    },
    "language_info": {
      "name": "python"
    }
  },
  "cells": [
    {
      "cell_type": "markdown",
      "metadata": {
        "id": "view-in-github",
        "colab_type": "text"
      },
      "source": [
        "<a href=\"https://colab.research.google.com/github/giovannacscavalcante/Python/blob/main/Lista_2_Exercicio_2.ipynb\" target=\"_parent\"><img src=\"https://colab.research.google.com/assets/colab-badge.svg\" alt=\"Open In Colab\"/></a>"
      ]
    },
    {
      "cell_type": "code",
      "execution_count": 2,
      "metadata": {
        "colab": {
          "base_uri": "https://localhost:8080/"
        },
        "id": "_tpmOAal0_mr",
        "outputId": "4e674424-c714-41c6-d0c4-cb3e19d5f44e"
      },
      "outputs": [
        {
          "output_type": "stream",
          "name": "stdout",
          "text": [
            "Digite um número: 1\n",
            "Digite um número: 2\n",
            "Digite um número: 3\n",
            "Digite um número: 4\n",
            "Digite um número: 5\n",
            "Digite um número: 6\n",
            "Digite um número: 7\n",
            "Digite um número: 8\n",
            "Digite um número: 9\n",
            "Digite um número: 10\n",
            "A soma dos quadrados dos elementos do vetor são 385\n"
          ]
        }
      ],
      "source": [
        "#Faça um Programa que leia um vetor A com 10 números inteiros, calcule\n",
        "#e mostre a soma dos quadrados dos elementos do vetor.\n",
        "\n",
        "\n",
        "vetorA = []\n",
        "soma = 0\n",
        "for numero in range(0, 10):\n",
        "    vetorA.append(int(input(\"Digite um número: \")))\n",
        "    soma = soma + (vetorA[len(vetorA)-1]**2)\n",
        "print(\"A soma dos quadrados dos elementos do vetor são \" + str(soma))"
      ]
    }
  ]
}