{
  "nbformat": 4,
  "nbformat_minor": 0,
  "metadata": {
    "colab": {
      "name": "Lista 2 - Exercicio 5",
      "provenance": [],
      "authorship_tag": "ABX9TyO5sMLpUVU5pVM8f6VZa1fe",
      "include_colab_link": true
    },
    "kernelspec": {
      "name": "python3",
      "display_name": "Python 3"
    },
    "language_info": {
      "name": "python"
    }
  },
  "cells": [
    {
      "cell_type": "markdown",
      "metadata": {
        "id": "view-in-github",
        "colab_type": "text"
      },
      "source": [
        "<a href=\"https://colab.research.google.com/github/giovannacscavalcante/Python/blob/main/Lista_2_Exercicio_5.ipynb\" target=\"_parent\"><img src=\"https://colab.research.google.com/assets/colab-badge.svg\" alt=\"Open In Colab\"/></a>"
      ]
    },
    {
      "cell_type": "code",
      "execution_count": 3,
      "metadata": {
        "colab": {
          "base_uri": "https://localhost:8080/"
        },
        "id": "r1uGENGh5qJx",
        "outputId": "987d10ad-7f59-46b5-aaaf-cabdcef4a2de"
      },
      "outputs": [
        {
          "output_type": "stream",
          "name": "stdout",
          "text": [
            "Telefonou para a vítima? 1/Sim ou 0/Não: 1\n",
            "Esteve no local do crime? 1/Sim ou 0/Não: 0\n",
            "Mora perto da vítima? 1/Sim ou 0/Não: 0\n",
            "Devia para a vítima? 1/Sim ou 0/Não: 0\n",
            "Já trabalhou com a vítima? 1/Sim ou 0/Não: 0\n",
            "\n",
            "Inocente\n"
          ]
        }
      ],
      "source": [
        "#Utilizando listas faça um programa que faça 5 perguntas para uma pessoa\n",
        "#sobre um crime. As perguntas são:\n",
        "#a) \"Telefonou para a vítima?\"\n",
        "#b) \"Esteve no local do crime?\"\n",
        "#c) \"Mora perto da vítima?\"\n",
        "#d) \"Devia para a vítima?\"\n",
        "#e) \"Já trabalhou com a vítima?\"\n",
        "#O programa deve no final emitir uma classificação sobre a participação da\n",
        "#pessoa no crime. Se a pessoa responder positivamente a 2 questões ela\n",
        "#deve ser classificada como \"Suspeita\", entre 3 e 4 como \"Cúmplice\" e 5\n",
        "#como \"Assassino\". Caso contrário, ele será classificado como \"Inocente\".\n",
        "\n",
        "resposta = []\n",
        "resposta.append(input(\"Telefonou para a vítima? 1/Sim ou 0/Não: \"))\n",
        "resposta.append(input(\"Esteve no local do crime? 1/Sim ou 0/Não: \"))\n",
        "resposta.append(input(\"Mora perto da vítima? 1/Sim ou 0/Não: \"))\n",
        "resposta.append(input(\"Devia para a vítima? 1/Sim ou 0/Não: \"))\n",
        "resposta.append(input(\"Já trabalhou com a vítima? 1/Sim ou 0/Não: \"))\n",
        "soma_respostas = 0\n",
        "for i in resposta: # soma o número de respostas\n",
        "  soma_respostas += int(i)\n",
        "if (soma_respostas < 2):\n",
        " print(\"\\nInocente\")\n",
        "elif (soma_respostas == 2):\n",
        " print(\"\\nSuspeita\")\n",
        "elif (3 <= soma_respostas <= 4):\n",
        " print(\"\\nCúmplice\")\n",
        "elif (soma_respostas == 5):\n",
        " print(\"\\nAssassino\")\n",
        "\n"
      ]
    }
  ]
}