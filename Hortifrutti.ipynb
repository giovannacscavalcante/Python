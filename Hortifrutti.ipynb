{
 "cells": [
  {
   "cell_type": "code",
   "execution_count": 15,
   "id": "06b4c516",
   "metadata": {},
   "outputs": [
    {
     "name": "stdout",
     "output_type": "stream",
     "text": [
      "Hortifrutti\n",
      "O kilo da fruta: Maçã custa 5\n",
      "O kilo da fruta: Pêra custa 10\n",
      "O kilo da fruta: Kiwi custa 40\n",
      "O kilo da fruta: Caqui custa 50\n"
     ]
    }
   ],
   "source": [
    "#Registro de produtos usando o For\n",
    "\n",
    "print(\"Hortifrutti\")\n",
    "\n",
    "frutas = ['Maçã','Pêra','Kiwi','Caqui']\n",
    "preco_kg = [5,10,40,50]\n",
    "for i in range(len(frutas)):   \n",
    "    print('O kilo da fruta: ' +frutas[i]+' custa '+str(preco_kg[i]))\n"
   ]
  },
  {
   "cell_type": "code",
   "execution_count": 18,
   "id": "9f26f181",
   "metadata": {},
   "outputs": [
    {
     "name": "stdout",
     "output_type": "stream",
     "text": [
      "Hortifrutti\n",
      "Digite a fruta: pera\n",
      "Digite o valor do kilo: 10\n",
      "continuar cadastrando s/n: s\n",
      "Digite a fruta: Maca \n",
      "Digite o valor do kilo: 20\n",
      "continuar cadastrando s/n: n\n",
      "O kilo da fruta: pera custa 10\n",
      "O kilo da fruta: Maca  custa 20\n"
     ]
    }
   ],
   "source": [
    "#Registro de produtos usando o For\n",
    "\n",
    "print(\"Hortifrutti\")\n",
    "frutas=[]\n",
    "preco_kg=[]\n",
    "x = 's'\n",
    "while x != 'n':\n",
    "    f = input('Digite a fruta: ')\n",
    "    frutas.append(f)\n",
    "    p = input('Digite o valor do kilo: ')\n",
    "    preco_kg.append(p)\n",
    "    x = input('continuar cadastrando s/n: ')\n",
    "for i in range(len(frutas)):   \n",
    "    print('O kilo da fruta: ' +frutas[i]+' custa '+str(preco_kg[i]))"
   ]
  },
  {
   "cell_type": "code",
   "execution_count": null,
   "id": "765a8d40",
   "metadata": {},
   "outputs": [],
   "source": []
  }
 ],
 "metadata": {
  "kernelspec": {
   "display_name": "Python 3 (ipykernel)",
   "language": "python",
   "name": "python3"
  },
  "language_info": {
   "codemirror_mode": {
    "name": "ipython",
    "version": 3
   },
   "file_extension": ".py",
   "mimetype": "text/x-python",
   "name": "python",
   "nbconvert_exporter": "python",
   "pygments_lexer": "ipython3",
   "version": "3.9.7"
  }
 },
 "nbformat": 4,
 "nbformat_minor": 5
}
