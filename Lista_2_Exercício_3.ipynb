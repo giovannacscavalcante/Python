{
  "nbformat": 4,
  "nbformat_minor": 0,
  "metadata": {
    "colab": {
      "name": "Lista 2 - Exercício 3",
      "provenance": [],
      "authorship_tag": "ABX9TyMlW3JapcmFM75O7PuSzFgt",
      "include_colab_link": true
    },
    "kernelspec": {
      "name": "python3",
      "display_name": "Python 3"
    },
    "language_info": {
      "name": "python"
    }
  },
  "cells": [
    {
      "cell_type": "markdown",
      "metadata": {
        "id": "view-in-github",
        "colab_type": "text"
      },
      "source": [
        "<a href=\"https://colab.research.google.com/github/giovannacscavalcante/Python/blob/main/Lista_2_Exerc%C3%ADcio_3.ipynb\" target=\"_parent\"><img src=\"https://colab.research.google.com/assets/colab-badge.svg\" alt=\"Open In Colab\"/></a>"
      ]
    },
    {
      "cell_type": "code",
      "execution_count": 3,
      "metadata": {
        "colab": {
          "base_uri": "https://localhost:8080/"
        },
        "id": "v8z9bfhx34Jh",
        "outputId": "32527fd9-a0fc-4028-e3cb-0db62fd3bd56"
      },
      "outputs": [
        {
          "output_type": "stream",
          "name": "stdout",
          "text": [
            "4 alunos possuem altura inferior à média de altura dos demais alunos\n"
          ]
        }
      ],
      "source": [
        "#Foram anotadas as idades e alturas de 30 alunos. Faça um Programa que\n",
        "#determine quantos alunos com mais de 13 anos possuem  \n",
        "\n",
        "idades=[32,89,65,34,22,34,76,12,13,29,28,54,24]\n",
        "alturas=[1.87,1.65,1.23,1.89,1.90,1.32,1.56,1.87,1.04,1.21,1.06,1.76,1.58]\n",
        "\n",
        "i = 0\n",
        "soma = 0\n",
        "\n",
        "while i < len(alturas):\n",
        "    soma += alturas[i]\n",
        "    i += 1\n",
        "media = soma / len(alturas)\n",
        "\n",
        "c = 0\n",
        "quantidade = 0\n",
        "while c < len(idades):\n",
        "    if(idades[c] > 13 and alturas[c] < media):\n",
        "        quantidade += 1\n",
        "    c += 1\n",
        "print(\"{} alunos possuem altura inferior à média de altura dos demais alunos\".format(quantidade))"
      ]
    }
  ]
}