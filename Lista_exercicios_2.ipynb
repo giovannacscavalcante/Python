{
  "cells": [
    {
      "cell_type": "markdown",
      "metadata": {
        "id": "view-in-github",
        "colab_type": "text"
      },
      "source": [
        "<a href=\"https://colab.research.google.com/github/giovannacscavalcante/Python/blob/main/Lista_exercicios_2.ipynb\" target=\"_parent\"><img src=\"https://colab.research.google.com/assets/colab-badge.svg\" alt=\"Open In Colab\"/></a>"
      ]
    },
    {
      "cell_type": "code",
      "execution_count": null,
      "id": "8e00b202",
      "metadata": {
        "id": "8e00b202",
        "outputId": "e6ed7b71-8deb-49c1-cc55-e02630dcf624"
      },
      "outputs": [
        {
          "name": "stdout",
          "output_type": "stream",
          "text": [
            "--------------REGISTRO DE VENDAS-------------\n",
            "Registre um produto. Para parar de registrar um novo produto aperte X:Celular\n",
            "Registre um produto. Para parar de registrar um novo produto aperte X:Computador\n",
            "Registre um produto. Para parar de registrar um novo produto aperte X:Garrafa\n",
            "Registre um produto. Para parar de registrar um novo produto aperte X:Mouse\n",
            "Registre um produto. Para parar de registrar um novo produto aperte X:X\n",
            "Registre um produto. Para parar de registrar um novo produto aperte X:x\n",
            "Registro finalizado. Os produtos registrados foram['Celular', 'Computador', 'Garrafa', 'Mouse', 'X']\n"
          ]
        }
      ],
      "source": [
        "# Crie um programa que funcione como o registro de vendas de uma empresa. O usuário deve inserir o nome do produto e o\n",
        "#produto deve ser adicionado na lista de  venda. Enquanto o usuário não encerrar o programa, significa que ele está  registrando\n",
        "#novos produtos, então o programa deve permitir e entrada de novos  produtos. \n",
        "\n",
        "print(\"--------------REGISTRO DE VENDAS-------------\")\n",
        "produto=input(\"Registre um produto. Para parar de registrar um novo produto aperte X:\")\n",
        "\n",
        "produtos=[]\n",
        "while produto !=\"x\":\n",
        "    produtos.append(produto)\n",
        "    produto=input(\"Registre um produto. Para parar de registrar um novo produto aperte X:\")\n",
        "    \n",
        "print(\"Registro finalizado. Os produtos registrados foram{}\".format(produtos))\n"
      ]
    },
    {
      "cell_type": "code",
      "execution_count": null,
      "id": "d101cd00",
      "metadata": {
        "id": "d101cd00"
      },
      "outputs": [],
      "source": [
        ""
      ]
    }
  ],
  "metadata": {
    "kernelspec": {
      "display_name": "Python 3 (ipykernel)",
      "language": "python",
      "name": "python3"
    },
    "language_info": {
      "codemirror_mode": {
        "name": "ipython",
        "version": 3
      },
      "file_extension": ".py",
      "mimetype": "text/x-python",
      "name": "python",
      "nbconvert_exporter": "python",
      "pygments_lexer": "ipython3",
      "version": "3.9.7"
    },
    "colab": {
      "name": "Lista exercicios - 2.ipynb",
      "provenance": [],
      "include_colab_link": true
    }
  },
  "nbformat": 4,
  "nbformat_minor": 5
}