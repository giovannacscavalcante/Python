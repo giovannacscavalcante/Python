{
  "nbformat": 4,
  "nbformat_minor": 0,
  "metadata": {
    "colab": {
      "name": "Lista 2 - Exercicio 1",
      "provenance": [],
      "authorship_tag": "ABX9TyOC02jJH+wdKyJZj31Vf54t",
      "include_colab_link": true
    },
    "kernelspec": {
      "name": "python3",
      "display_name": "Python 3"
    },
    "language_info": {
      "name": "python"
    }
  },
  "cells": [
    {
      "cell_type": "markdown",
      "metadata": {
        "id": "view-in-github",
        "colab_type": "text"
      },
      "source": [
        "<a href=\"https://colab.research.google.com/github/giovannacscavalcante/Python/blob/main/Lista_2_Exercicio_1.ipynb\" target=\"_parent\"><img src=\"https://colab.research.google.com/assets/colab-badge.svg\" alt=\"Open In Colab\"/></a>"
      ]
    },
    {
      "cell_type": "code",
      "execution_count": null,
      "metadata": {
        "colab": {
          "base_uri": "https://localhost:8080/"
        },
        "id": "j8Ebt4Pc2AU7",
        "outputId": "d1c13c86-8920-40cc-a725-ffb5e07509ae"
      },
      "outputs": [
        {
          "output_type": "stream",
          "name": "stdout",
          "text": [
            "\n"
          ]
        }
      ],
      "source": [
        "#Faça um Programa que leia um vetor de 5 números inteiros, mostre a\n",
        "#soma, a multiplicação e os números.\n",
        "\n",
        "lista = []\n",
        "mult = 1\n",
        "\n",
        "print()\n",
        "for numeros in range(1, 6):\n",
        "    num = int(input('Digite o {}º número: '.format(numeros)))\n",
        "    lista.append(num)\n",
        "    mult = mult * num\n",
        "soma = sum(lista)\n",
        "\n",
        "print('\\nOs vetores são: {}\\nA soma dos vetores é: {}\\nA multiplicação dos vetores é: {}'.format(lista, soma, mult))"
      ]
    }
  ]
}