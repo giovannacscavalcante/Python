{
 "cells": [
  {
   "cell_type": "code",
   "execution_count": null,
   "id": "0b5dd6c8",
   "metadata": {},
   "outputs": [],
   "source": [
    "#Lista de alunos da turma de Python3 Avançado Matutino\n",
    "\n",
    "print(\"Lista de alunos presentes\")\n",
    "\n",
    "alunos = ['Crislan','Anderson','Giovanna','Igor','Luiz','Marcelo','Ana Paula','Tony','Franklin','Edicleis']"
   ]
  }
 ],
 "metadata": {
  "kernelspec": {
   "display_name": "Python 3 (ipykernel)",
   "language": "python",
   "name": "python3"
  },
  "language_info": {
   "codemirror_mode": {
    "name": "ipython",
    "version": 3
   },
   "file_extension": ".py",
   "mimetype": "text/x-python",
   "name": "python",
   "nbconvert_exporter": "python",
   "pygments_lexer": "ipython3",
   "version": "3.9.7"
  }
 },
 "nbformat": 4,
 "nbformat_minor": 5
}
