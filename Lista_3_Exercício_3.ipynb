{
  "nbformat": 4,
  "nbformat_minor": 0,
  "metadata": {
    "colab": {
      "name": "Lista 3 - Exercício 3.ipynb",
      "provenance": [],
      "authorship_tag": "ABX9TyNj6GHPVjcmv6u6hgl5OObN",
      "include_colab_link": true
    },
    "kernelspec": {
      "name": "python3",
      "display_name": "Python 3"
    },
    "language_info": {
      "name": "python"
    }
  },
  "cells": [
    {
      "cell_type": "markdown",
      "metadata": {
        "id": "view-in-github",
        "colab_type": "text"
      },
      "source": [
        "<a href=\"https://colab.research.google.com/github/giovannacscavalcante/Python/blob/main/Lista_3_Exerc%C3%ADcio_3.ipynb\" target=\"_parent\"><img src=\"https://colab.research.google.com/assets/colab-badge.svg\" alt=\"Open In Colab\"/></a>"
      ]
    },
    {
      "cell_type": "code",
      "execution_count": 1,
      "metadata": {
        "colab": {
          "base_uri": "https://localhost:8080/",
          "height": 556
        },
        "id": "k85Y8BzLEWXC",
        "outputId": "368d6fca-c4e4-4fca-ca84-2c1d36a71427"
      },
      "outputs": [
        {
          "name": "stdout",
          "output_type": "stream",
          "text": [
            "0. Sair \n",
            "1. Jogar novamente\n",
            "1\n",
            "\n",
            "Jogador  1\n",
            " _   _   _  \n",
            " _   _   _  \n",
            " _   _   _  \n",
            "\n",
            "Linha :x\n"
          ]
        },
        {
          "output_type": "error",
          "ename": "ValueError",
          "evalue": "ignored",
          "traceback": [
            "\u001b[0;31m---------------------------------------------------------------------------\u001b[0m",
            "\u001b[0;31mValueError\u001b[0m                                Traceback (most recent call last)",
            "\u001b[0;32m<ipython-input-1-d1836981d231>\u001b[0m in \u001b[0;36m<module>\u001b[0;34m()\u001b[0m\n\u001b[1;32m     70\u001b[0m          [0,0,0] ]\n\u001b[1;32m     71\u001b[0m \u001b[0;34m\u001b[0m\u001b[0m\n\u001b[0;32m---> 72\u001b[0;31m \u001b[0mmenu\u001b[0m\u001b[0;34m(\u001b[0m\u001b[0;34m)\u001b[0m\u001b[0;34m\u001b[0m\u001b[0;34m\u001b[0m\u001b[0m\n\u001b[0m\u001b[1;32m     73\u001b[0m \u001b[0;34m\u001b[0m\u001b[0m\n\u001b[1;32m     74\u001b[0m \u001b[0;34m\u001b[0m\u001b[0m\n",
            "\u001b[0;32m<ipython-input-1-d1836981d231>\u001b[0m in \u001b[0;36mmenu\u001b[0;34m()\u001b[0m\n\u001b[1;32m      5\u001b[0m                               \"1. Jogar novamente\\n\"))\n\u001b[1;32m      6\u001b[0m         \u001b[0;32mif\u001b[0m \u001b[0mcontinuar\u001b[0m\u001b[0;34m:\u001b[0m\u001b[0;34m\u001b[0m\u001b[0;34m\u001b[0m\u001b[0m\n\u001b[0;32m----> 7\u001b[0;31m             \u001b[0mgame\u001b[0m\u001b[0;34m(\u001b[0m\u001b[0;34m)\u001b[0m\u001b[0;34m\u001b[0m\u001b[0;34m\u001b[0m\u001b[0m\n\u001b[0m\u001b[1;32m      8\u001b[0m         \u001b[0;32melse\u001b[0m\u001b[0;34m:\u001b[0m\u001b[0;34m\u001b[0m\u001b[0;34m\u001b[0m\u001b[0m\n\u001b[1;32m      9\u001b[0m             \u001b[0mprint\u001b[0m\u001b[0;34m(\u001b[0m\u001b[0;34m\"Saindo...\"\u001b[0m\u001b[0;34m)\u001b[0m\u001b[0;34m\u001b[0m\u001b[0;34m\u001b[0m\u001b[0m\n",
            "\u001b[0;32m<ipython-input-1-d1836981d231>\u001b[0m in \u001b[0;36mgame\u001b[0;34m()\u001b[0m\n\u001b[1;32m     15\u001b[0m         \u001b[0mprint\u001b[0m\u001b[0;34m(\u001b[0m\u001b[0;34m\"\\nJogador \"\u001b[0m\u001b[0;34m,\u001b[0m \u001b[0mjogada\u001b[0m\u001b[0;34m%\u001b[0m\u001b[0;36m2\u001b[0m \u001b[0;34m+\u001b[0m \u001b[0;36m1\u001b[0m\u001b[0;34m)\u001b[0m\u001b[0;34m\u001b[0m\u001b[0;34m\u001b[0m\u001b[0m\n\u001b[1;32m     16\u001b[0m         \u001b[0mexibe\u001b[0m\u001b[0;34m(\u001b[0m\u001b[0;34m)\u001b[0m\u001b[0;34m\u001b[0m\u001b[0;34m\u001b[0m\u001b[0m\n\u001b[0;32m---> 17\u001b[0;31m         \u001b[0mlinha\u001b[0m  \u001b[0;34m=\u001b[0m \u001b[0mint\u001b[0m\u001b[0;34m(\u001b[0m\u001b[0minput\u001b[0m\u001b[0;34m(\u001b[0m\u001b[0;34m\"\\nLinha :\"\u001b[0m\u001b[0;34m)\u001b[0m\u001b[0;34m)\u001b[0m\u001b[0;34m\u001b[0m\u001b[0;34m\u001b[0m\u001b[0m\n\u001b[0m\u001b[1;32m     18\u001b[0m         \u001b[0mcoluna\u001b[0m \u001b[0;34m=\u001b[0m \u001b[0mint\u001b[0m\u001b[0;34m(\u001b[0m\u001b[0minput\u001b[0m\u001b[0;34m(\u001b[0m\u001b[0;34m\"Coluna:\"\u001b[0m\u001b[0;34m)\u001b[0m\u001b[0;34m)\u001b[0m\u001b[0;34m\u001b[0m\u001b[0;34m\u001b[0m\u001b[0m\n\u001b[1;32m     19\u001b[0m \u001b[0;34m\u001b[0m\u001b[0m\n",
            "\u001b[0;31mValueError\u001b[0m: invalid literal for int() with base 10: 'x'"
          ]
        }
      ],
      "source": [
        "def menu():\n",
        "    continuar=1\n",
        "    while continuar:\n",
        "        continuar = int(input(\"0. Sair \\n\"+\n",
        "                              \"1. Jogar novamente\\n\"))\n",
        "        if continuar:\n",
        "            game()\n",
        "        else:\n",
        "            print(\"Saindo...\")\n",
        "\n",
        "def game():\n",
        "    jogada=0\n",
        "\n",
        "    while ganhou() == 0:\n",
        "        print(\"\\nJogador \", jogada%2 + 1)\n",
        "        exibe()\n",
        "        linha  = int(input(\"\\nLinha :\"))\n",
        "        coluna = int(input(\"Coluna:\"))\n",
        "\n",
        "        if board[linha-1][coluna-1] == 0:\n",
        "            if(jogada%2+1)==1:\n",
        "                board[linha-1][coluna-1]=1\n",
        "            else:\n",
        "                board[linha-1][coluna-1]=-1\n",
        "        else:\n",
        "            print(\"Nao esta vazio\")\n",
        "            jogada -=1\n",
        "\n",
        "        if ganhou():\n",
        "            print(\"Jogador \",jogada%2 + 1,\" ganhou apos \", jogada+1,\" rodadas\")\n",
        "\n",
        "        jogada +=1\n",
        "    \n",
        "def ganhou():\n",
        "    #checando linhas\n",
        "    for i in range(3):\n",
        "        soma = board[i][0]+board[i][1]+board[i][2]\n",
        "        if soma==3 or soma ==-3:\n",
        "            return 1\n",
        "\n",
        "     #checando colunas\n",
        "    for i in range(3):\n",
        "        soma = board[0][i]+board[1][i]+board[2][i]\n",
        "        if soma==3 or soma ==-3:\n",
        "            return 1\n",
        "\n",
        "    #checando diagonais\n",
        "    diagonal1 = board[0][0]+board[1][1]+board[2][2]\n",
        "    diagonal2 = board[0][2]+board[1][1]+board[2][0]\n",
        "    if diagonal1==3 or diagonal1==-3 or diagonal2==3 or diagonal2==-3:\n",
        "        return 1\n",
        "\n",
        "    return 0\n",
        "\n",
        "def exibe():\n",
        "    for i in range(3):\n",
        "        for j in range(3):\n",
        "            if board[i][j] == 0:\n",
        "                print(\" _ \", end=' ')\n",
        "            elif board[i][j] == 1:\n",
        "                print(\" X \", end=' ')\n",
        "            elif board[i][j] == -1:\n",
        "                print(\" O \", end=' ')\n",
        "\n",
        "        print()\n",
        "                \n",
        "\n",
        "board= [ [0,0,0],\n",
        "         [0,0,0],\n",
        "         [0,0,0] ]\n",
        "\n",
        "menu()\n",
        "\n",
        "\n"
      ]
    }
  ]
}