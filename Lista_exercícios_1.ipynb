{
  "cells": [
    {
      "cell_type": "markdown",
      "metadata": {
        "id": "view-in-github",
        "colab_type": "text"
      },
      "source": [
        "<a href=\"https://colab.research.google.com/github/giovannacscavalcante/Python/blob/main/Lista_exerc%C3%ADcios_1.ipynb\" target=\"_parent\"><img src=\"https://colab.research.google.com/assets/colab-badge.svg\" alt=\"Open In Colab\"/></a>"
      ]
    },
    {
      "cell_type": "code",
      "execution_count": null,
      "id": "675fe72e",
      "metadata": {
        "id": "675fe72e",
        "outputId": "c6050050-3707-448f-95be-39fa6648deca"
      },
      "outputs": [
        {
          "name": "stdout",
          "output_type": "stream",
          "text": [
            "Maria bateu a meta de vendas. Seu total de vendas foi de 941\n",
            "José bateu a meta de vendas. Seu total de vendas foi de 852\n",
            "Antônio bateu a meta de vendas. Seu total de vendas foi de 783\n",
            "João bateu a meta de vendas. Seu total de vendas foi de 714\n",
            "Francisco bateu a meta de vendas. Seu total de vendas foi de 697\n",
            "Ana bateu a meta de vendas. Seu total de vendas foi de 686\n",
            "Luiz bateu a meta de vendas. Seu total de vendas foi de 685\n",
            "Paulo bateu a meta de vendas. Seu total de vendas foi de 670\n",
            "Carlos bateu a meta de vendas. Seu total de vendas foi de 631\n",
            "Manoel bateu a meta de vendas. Seu total de vendas foi de 453\n",
            "Pedro bateu a meta de vendas. Seu total de vendas foi de 386\n",
            "Francisca bateu a meta de vendas. Seu total de vendas foi de 371\n",
            "Marcos bateu a meta de vendas. Seu total de vendas foi de 294\n",
            "Raimundo bateu a meta de vendas. Seu total de vendas foi de 269\n",
            "Sebastião bateu a meta de vendas. Seu total de vendas foi de 259\n",
            "Antônia bateu a meta de vendas. Seu total de vendas foi de 218\n",
            "Marcelo bateu a meta de vendas. Seu total de vendas foi de 208\n",
            "Jorge bateu a meta de vendas. Seu total de vendas foi de 163\n",
            "Márcia bateu a meta de vendas. Seu total de vendas foi de 125\n",
            "Geraldo bateu a meta de vendas. Seu total de vendas foi de 102\n"
          ]
        }
      ],
      "source": [
        "#Digamos que temos uma lista de vendedores e as quantidades vendidas e queremos  identificar todos os vendedores que bateram \n",
        "#a meta igual a 100. Crie um programa  usando while e informe quem bateu a meta. \n",
        "\n",
        "\n",
        "vendas = [941, 852, 783, 714, 697, 686, 685, 670, 631, 453, 386, 371, 294, 269, 259, 218, 208, 163, 125, 102, 87, 47, 7] \n",
        "vendedores = ['Maria', 'José', 'Antônio', 'João', 'Francisco', 'Ana', 'Luiz', 'Paulo', 'Carlos', 'Manoel', 'Pedro', 'Francisca', 'Marcos', 'Raimundo', 'Sebastião', 'Antônia', \n",
        "              'Marcelo', 'Jorge', 'Márcia', 'Geraldo', 'A driana', 'Sandra', 'Luis'] \n",
        "meta = 100 \n",
        "i=0\n",
        "\n",
        "while vendas[i] > meta:\n",
        "    print(\"{} bateu a meta de vendas. Seu total de vendas foi de {}\".format(vendedores[i],vendas[i]))\n",
        "    i= i + 1"
      ]
    },
    {
      "cell_type": "code",
      "execution_count": null,
      "id": "d0315e13",
      "metadata": {
        "id": "d0315e13"
      },
      "outputs": [],
      "source": [
        ""
      ]
    }
  ],
  "metadata": {
    "kernelspec": {
      "display_name": "Python 3 (ipykernel)",
      "language": "python",
      "name": "python3"
    },
    "language_info": {
      "codemirror_mode": {
        "name": "ipython",
        "version": 3
      },
      "file_extension": ".py",
      "mimetype": "text/x-python",
      "name": "python",
      "nbconvert_exporter": "python",
      "pygments_lexer": "ipython3",
      "version": "3.9.7"
    },
    "colab": {
      "name": "Lista exercícios - 1.ipynb",
      "provenance": [],
      "include_colab_link": true
    }
  },
  "nbformat": 4,
  "nbformat_minor": 5
}