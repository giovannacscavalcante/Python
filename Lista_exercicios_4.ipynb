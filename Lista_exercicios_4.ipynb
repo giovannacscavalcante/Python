{
  "cells": [
    {
      "cell_type": "markdown",
      "metadata": {
        "id": "view-in-github",
        "colab_type": "text"
      },
      "source": [
        "<a href=\"https://colab.research.google.com/github/giovannacscavalcante/Python/blob/main/Lista_exercicios_4.ipynb\" target=\"_parent\"><img src=\"https://colab.research.google.com/assets/colab-badge.svg\" alt=\"Open In Colab\"/></a>"
      ]
    },
    {
      "cell_type": "code",
      "execution_count": 1,
      "id": "5646ee02",
      "metadata": {
        "id": "5646ee02",
        "outputId": "fc756a51-2da5-4689-c0a4-395f788297e6",
        "colab": {
          "base_uri": "https://localhost:8080/"
        }
      },
      "outputs": [
        {
          "output_type": "stream",
          "name": "stdout",
          "text": [
            "----------------Tabuada--------------------\n",
            "Informe um número: 6\n",
            "\n",
            "Tabuada de 6 :\n",
            "6 X 1 = 6\n",
            "6 X 2 = 12\n",
            "6 X 3 = 18\n",
            "6 X 4 = 24\n",
            "6 X 5 = 30\n",
            "6 X 6 = 36\n",
            "6 X 7 = 42\n",
            "6 X 8 = 48\n",
            "6 X 9 = 54\n",
            "6 X 10 = 60\n"
          ]
        }
      ],
      "source": [
        " #Usando for Faça um programa em Python que leia um valor inteiro e mostre a  tabuada de 1 a 10 do valor lido. \n",
        "\n",
        "print(\"----------------Tabuada--------------------\")\n",
        "num = int(input('Informe um número: '))\n",
        "\n",
        "print('\\nTabuada de', num, ':')\n",
        "\n",
        "for i in range(1, 11):\n",
        "    print(num, 'X', i, '=', (num * i))\n",
        "\n"
      ]
    },
    {
      "cell_type": "code",
      "execution_count": null,
      "id": "3bd49636",
      "metadata": {
        "id": "3bd49636"
      },
      "outputs": [],
      "source": [
        ""
      ]
    },
    {
      "cell_type": "code",
      "execution_count": null,
      "id": "c4b17110",
      "metadata": {
        "id": "c4b17110"
      },
      "outputs": [],
      "source": [
        ""
      ]
    }
  ],
  "metadata": {
    "kernelspec": {
      "display_name": "Python 3 (ipykernel)",
      "language": "python",
      "name": "python3"
    },
    "language_info": {
      "codemirror_mode": {
        "name": "ipython",
        "version": 3
      },
      "file_extension": ".py",
      "mimetype": "text/x-python",
      "name": "python",
      "nbconvert_exporter": "python",
      "pygments_lexer": "ipython3",
      "version": "3.9.7"
    },
    "colab": {
      "name": "Lista exercicios - 4.ipynb",
      "provenance": [],
      "include_colab_link": true
    }
  },
  "nbformat": 4,
  "nbformat_minor": 5
}